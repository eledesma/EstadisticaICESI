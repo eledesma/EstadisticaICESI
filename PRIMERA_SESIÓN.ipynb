{
  "nbformat": 4,
  "nbformat_minor": 0,
  "metadata": {
    "colab": {
      "provenance": [],
      "include_colab_link": true
    },
    "kernelspec": {
      "name": "python3",
      "display_name": "Python 3"
    },
    "language_info": {
      "name": "python"
    }
  },
  "cells": [
    {
      "cell_type": "markdown",
      "metadata": {
        "id": "view-in-github",
        "colab_type": "text"
      },
      "source": [
        "<a href=\"https://colab.research.google.com/github/eledesma/EstadisticaICESI/blob/main/PRIMERA_SESI%C3%93N.ipynb\" target=\"_parent\"><img src=\"https://colab.research.google.com/assets/colab-badge.svg\" alt=\"Open In Colab\"/></a>"
      ]
    },
    {
      "cell_type": "markdown",
      "source": [
        "\n",
        "#<big><big> Fundamentos de Estadística</big></big><br><small>\n",
        "\n",
        "Facultad de Ingeniería / Escuela de diseño, Ingenieria y Ciencias Aplicadas\n",
        "\n",
        "### Certificación</small><br><small>\n"
      ],
      "metadata": {
        "id": "NGMy_7vpNW-t"
      }
    },
    {
      "cell_type": "code",
      "source": [],
      "metadata": {
        "id": "qXpOUvAi03Qv"
      },
      "execution_count": null,
      "outputs": []
    },
    {
      "cell_type": "markdown",
      "source": [
        "# Practica # 1"
      ],
      "metadata": {
        "id": "I7V_9xT-rvaX"
      }
    },
    {
      "cell_type": "code",
      "source": [],
      "metadata": {
        "id": "yb7Db6dl083D"
      },
      "execution_count": null,
      "outputs": []
    },
    {
      "cell_type": "code",
      "source": [],
      "metadata": {
        "id": "4unUnaA-1DgA"
      },
      "execution_count": null,
      "outputs": []
    },
    {
      "cell_type": "code",
      "source": [],
      "metadata": {
        "id": "axp4KFKu1G4q"
      },
      "execution_count": null,
      "outputs": []
    },
    {
      "cell_type": "markdown",
      "source": [
        "![logo-n-icesi.png](data:image/png;base64,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)"
      ],
      "metadata": {
        "id": "K9DChzQerYnL"
      }
    },
    {
      "cell_type": "markdown",
      "source": [
        "# Medidas de Tendencia Central"
      ],
      "metadata": {
        "id": "PYwr_1JGM3_u"
      }
    },
    {
      "cell_type": "markdown",
      "source": [
        "### Media\n",
        "La media aritmética de un conjunto de datos se define como la suma de todos los valores dividida por el número de observaciones. Matemáticamente:\n",
        "\n",
        "$$\n",
        "\\bar{X} = \\frac{1}{n} \\sum_{i=1}^{n} X_i\n",
        "$$\n",
        "\n",
        "donde $( X_i )$ representa cada valor en el conjunto de datos y $n$ es el número total de observaciones.\n"
      ],
      "metadata": {
        "id": "pHnLZpR5r_Kc"
      }
    },
    {
      "cell_type": "code",
      "execution_count": null,
      "metadata": {
        "id": "zmpPHaolMxFH",
        "colab": {
          "base_uri": "https://localhost:8080/"
        },
        "outputId": "563f823d-2a43-428a-81ea-53ff0db25c9d"
      },
      "outputs": [
        {
          "output_type": "stream",
          "name": "stdout",
          "text": [
            "Datos: [11 16 71 65  6  4 51 20  6 96 76 12  5 54 36 57 74 24 36 34]\n",
            "Media: 37.7\n"
          ]
        }
      ],
      "source": [
        "import numpy as np\n",
        "\n",
        "# Generar un conjunto de datos aleatorio\n",
        "data = np.random.randint(1, 100, 20)  # 20 valores aleatorios entre 1 y 100\n",
        "\n",
        "# Calcular la media\n",
        "mean_value = np.mean(data)\n",
        "\n",
        "print(\"Datos:\", data)\n",
        "print(\"Media:\", mean_value)\n"
      ]
    },
    {
      "cell_type": "markdown",
      "source": [
        "### Mediana\n",
        "La mediana es el valor que divide el conjunto de datos en dos partes iguales. Si el número de observaciones es impar, es el valor central. Si es par, es el promedio de los dos valores centrales.\n",
        "\n",
        "$$\n",
        "\\text{Mediana} =\n",
        "\\begin{cases}\n",
        "X_{\\left(\\frac{n+1}{2}\\right)}, & \\text{si } n \\text{ es impar} \\\\\n",
        "\\frac{X_{\\left(\\frac{n}{2}\\right)} + X_{\\left(\\frac{n}{2} + 1\\right)}}{2}, & \\text{si } n \\text{ es par}\n",
        "\\end{cases}\n",
        "$$\n"
      ],
      "metadata": {
        "id": "FCd65jWlsP0E"
      }
    },
    {
      "cell_type": "code",
      "source": [
        "data"
      ],
      "metadata": {
        "colab": {
          "base_uri": "https://localhost:8080/"
        },
        "id": "Mqs9BDk28UYZ",
        "outputId": "80e83220-f78f-4a24-d48f-92b3bbc9410a"
      },
      "execution_count": null,
      "outputs": [
        {
          "output_type": "execute_result",
          "data": {
            "text/plain": [
              "array([11, 16, 71, 65,  6,  4, 51, 20,  6, 96, 76, 12,  5, 54, 36, 57, 74,\n",
              "       24, 36, 34])"
            ]
          },
          "metadata": {},
          "execution_count": 2
        }
      ]
    },
    {
      "cell_type": "code",
      "source": [
        "# Calcular la mediana\n",
        "median_value = np.median(data)\n",
        "\n",
        "print(\"Mediana:\", median_value)\n"
      ],
      "metadata": {
        "colab": {
          "base_uri": "https://localhost:8080/"
        },
        "id": "sErnjQtZsVbF",
        "outputId": "d905659d-0dd0-434c-8e79-f9f9c93df72e"
      },
      "execution_count": null,
      "outputs": [
        {
          "output_type": "stream",
          "name": "stdout",
          "text": [
            "Mediana: 35.0\n"
          ]
        }
      ]
    },
    {
      "cell_type": "markdown",
      "source": [
        "### Moda\n",
        "La moda es el valor que aparece con mayor frecuencia en un conjunto de datos. Un conjunto de datos puede ser unimodal (una sola moda), bimodal (dos modas) o multimodal.\n",
        "\n",
        "$\n",
        "\\text{Moda} = \\text{valor que ocurre con mayor frecuencia en el conjunto de datos}\n",
        "$"
      ],
      "metadata": {
        "id": "znCZbWoPsZYD"
      }
    },
    {
      "cell_type": "code",
      "source": [
        "\n",
        "from scipy import stats\n",
        "# Calcular la moda\n",
        "mode_value = stats.mode(data)\n",
        "\n",
        "# Print the mode and count directly without indexing\n",
        "print(\"Moda:\", mode_value.mode, \"con frecuencia:\", mode_value.count)"
      ],
      "metadata": {
        "colab": {
          "base_uri": "https://localhost:8080/"
        },
        "id": "FV8iwB4psXU6",
        "outputId": "22a5de9b-8201-4568-f4bd-4f7b8df8cc20"
      },
      "execution_count": null,
      "outputs": [
        {
          "output_type": "stream",
          "name": "stdout",
          "text": [
            "Moda: 85 con frecuencia: 2\n"
          ]
        }
      ]
    },
    {
      "cell_type": "markdown",
      "source": [
        "# Medidas de dispersión"
      ],
      "metadata": {
        "id": "v3EuUdDhtBs_"
      }
    },
    {
      "cell_type": "markdown",
      "source": [
        "### Varianza y Desviación Estándar\n",
        "\n",
        "La varianza y la desviación estándar son medidas de dispersión o variabilidad. Estas medidas nos indican qué tan dispersos o concentrados están los datos alrededor de una medida de tendencia central, típicamente la media.\n",
        "\n",
        "#### Varianza\n",
        "Mide la distancia promedio al cuadrado entre cada valor de un conjunto de datos y la media de ese conjunto. Una varianza alta indica que los datos están muy dispersos, mientras que una varianza baja indica que están más concentrados alrededor de la media.\n",
        "\n",
        "Matemáticamente, la varianza $\\sigma^2$ para la población o $s^2$ para una muestra se define como:\n",
        "$$ \\sigma^2 = \\frac{1}{N} \\sum_{i=1}^{N} (X_i - \\mu)^2 \\quad \\text{(para la población)}$$\n",
        "\n",
        "\n",
        "$$ s^2 = \\frac{1}{n-1} \\sum_{i=1}^{n} (X_i - \\bar{X})^2 \\quad \\text{(para una muestra)}$$\n",
        "#### Desviación Estándar\n",
        "Es la raíz cuadrada de la varianza y proporciona una medida de dispersión en las mismas unidades que los datos originales. La desviación estándar es útil porque permite una interpretación más directa de la dispersión de los datos.\n",
        "\n",
        "$$\n",
        "\\sigma = \\sqrt{\\sigma^2} \\quad \\text{(para la población)}\n",
        "$$\n",
        "\n",
        "$$\n",
        "s = \\sqrt{s^2} \\quad \\text{(para una muestra)}\n",
        "$$\n"
      ],
      "metadata": {
        "id": "6Ej7MzVrtEgZ"
      }
    },
    {
      "cell_type": "code",
      "source": [
        "import numpy as np\n",
        "\n",
        "# Generar un conjunto de datos aleatorio\n",
        "data = np.random.randint(1, 100, 20)  # 20 valores aleatorios entre 1 y 100\n",
        "\n",
        "# Calcular la varianza y la desviación estándar para la muestra\n",
        "variance_sample = np.var(data, ddof=1)  # ddof=1 indica que es para una muestra\n",
        "std_dev_sample = np.sqrt(variance_sample)\n",
        "\n",
        "# Calcular la varianza y la desviación estándar para la población\n",
        "variance_population = np.var(data)  # Por defecto para la población\n",
        "std_dev_population = np.sqrt(variance_population)\n",
        "\n",
        "print(\"Datos:\", data)\n",
        "print(\"Varianza (muestra):\", variance_sample)\n",
        "print(\"Desviación estándar (muestra):\", std_dev_sample)\n",
        "print(\"Varianza (población):\", variance_population)\n",
        "print(\"Desviación estándar (población):\", std_dev_population)\n"
      ],
      "metadata": {
        "colab": {
          "base_uri": "https://localhost:8080/"
        },
        "id": "I3OaXNkSsgRP",
        "outputId": "8f6b7b6a-ed6e-4922-cbb2-fb08bf15baea"
      },
      "execution_count": null,
      "outputs": [
        {
          "output_type": "stream",
          "name": "stdout",
          "text": [
            "Datos: [91 98 54 20 58 68 69 64 23 99 66 86 33 98 28 46 16 67 85 15]\n",
            "Varianza (muestra): 832.8000000000001\n",
            "Desviación estándar (muestra): 28.858274376684413\n",
            "Varianza (población): 791.1600000000001\n",
            "Desviación estándar (población): 28.127566549561305\n"
          ]
        }
      ]
    },
    {
      "cell_type": "markdown",
      "source": [
        "# Ejemplo"
      ],
      "metadata": {
        "id": "DaLXPBBStybo"
      }
    },
    {
      "cell_type": "markdown",
      "source": [
        "Supongamos que estamos analizando el rendimiento en horas de estudio semanal de un grupo de 20 estudiantes universitarios en una materia específica. Queremos entender cómo se distribuyen estas horas de estudio y si existen patrones o variabilidad significativa en el tiempo dedicado a la preparación académica.\n",
        "\n",
        "**Objetivo**\n",
        "\n",
        "Calcular la media, mediana, moda, varianza y desviación estándar de las horas de estudio.\n",
        "Realizar una gráfica de las horas de estudio.\n",
        "Interpretar los resultados y lo que indican sobre el grupo de estudiantes."
      ],
      "metadata": {
        "id": "pBd9WTIit0cK"
      }
    },
    {
      "cell_type": "code",
      "source": [
        "import numpy as np\n",
        "import matplotlib.pyplot as plt\n",
        "from scipy import stats\n",
        "\n",
        "# Datos: horas de estudio semanal de cada estudiante\n",
        "horas_estudio = [5, 10, 15, 10, 7, 12, 14, 18, 6, 15, 15, 10, 9, 13, 17, 20, 12, 14, 16, 11]\n",
        "\n",
        "# Calcular media\n",
        "media = np.mean(horas_estudio)\n",
        "\n",
        "# Calcular mediana\n",
        "mediana = np.median(horas_estudio)\n",
        "\n",
        "# Calcular moda\n",
        "moda = stats.mode(horas_estudio)\n",
        "\n",
        "# Calcular varianza (para muestra)\n",
        "varianza = np.var(horas_estudio, ddof=1)\n",
        "\n",
        "# Calcular desviación estándar (para muestra)\n",
        "desviacion = np.sqrt(varianza)\n",
        "\n",
        "# Imprimir resultados\n",
        "print(\"Horas de estudio:\", horas_estudio)\n",
        "print(\"Media:\", media)\n",
        "print(\"Mediana:\", mediana)\n",
        "# Access mode and count directly as they are scalar values\n",
        "print(\"Moda:\", moda.mode, \"con frecuencia:\", moda.count)\n",
        "print(\"Varianza:\", varianza)\n",
        "print(\"Desviación estándar:\", desviacion)\n",
        "\n",
        "# Gráfica de las horas de estudio\n",
        "plt.figure(figsize=(10, 6))\n",
        "plt.hist(horas_estudio, bins=7, color='skyblue', edgecolor='black')\n",
        "plt.axvline(media, color='red', linestyle='dashed', linewidth=1.5, label=f'Media = {media:.2f}')\n",
        "plt.axvline(mediana, color='green', linestyle='dashed', linewidth=1.5, label=f'Mediana = {mediana}')\n",
        "# Access mode directly as it is a scalar value\n",
        "plt.axvline(moda.mode, color='purple', linestyle='dashed', linewidth=1.5, label=f'Moda = {moda.mode}')\n",
        "plt.title(\"Distribución de Horas de Estudio Semanal\")\n",
        "plt.xlabel(\"Horas de Estudio\")\n",
        "plt.ylabel(\"Frecuencia\")\n",
        "plt.legend()\n",
        "plt.show()"
      ],
      "metadata": {
        "id": "p7M7I_qNuPRw",
        "outputId": "f62999fe-c0b2-452c-a006-aa2b9eb265db",
        "colab": {
          "base_uri": "https://localhost:8080/",
          "height": 668
        }
      },
      "execution_count": null,
      "outputs": [
        {
          "output_type": "stream",
          "name": "stdout",
          "text": [
            "Horas de estudio: [5, 10, 15, 10, 7, 12, 14, 18, 6, 15, 15, 10, 9, 13, 17, 20, 12, 14, 16, 11]\n",
            "Media: 12.45\n",
            "Mediana: 12.5\n",
            "Moda: 10 con frecuencia: 3\n",
            "Varianza: 16.05\n",
            "Desviación estándar: 4.006245124802026\n"
          ]
        },
        {
          "output_type": "display_data",
          "data": {
            "text/plain": [
              "<Figure size 1000x600 with 1 Axes>"
            ],
            "image/png": "[encoded data removed]"
          },
          "metadata": {}
        }
      ]
    }
  ]
}