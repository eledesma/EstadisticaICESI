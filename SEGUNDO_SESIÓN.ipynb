{
  "nbformat": 4,
  "nbformat_minor": 0,
  "metadata": {
    "colab": {
      "provenance": [],
      "include_colab_link": true
    },
    "kernelspec": {
      "name": "python3",
      "display_name": "Python 3"
    },
    "language_info": {
      "name": "python"
    }
  },
  "cells": [
    {
      "cell_type": "markdown",
      "metadata": {
        "id": "view-in-github",
        "colab_type": "text"
      },
      "source": [
        "<a href=\"https://colab.research.google.com/github/eledesma/EstadisticaICESI/blob/main/SEGUNDO_SESI%C3%93N.ipynb\" target=\"_parent\"><img src=\"https://colab.research.google.com/assets/colab-badge.svg\" alt=\"Open In Colab\"/></a>"
      ]
    },
    {
      "cell_type": "markdown",
      "source": [
        "![Captura de pantalla 2024-10-21 072009.png](data:image/png;base64,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)"
      ],
      "metadata": {
        "id": "E6E2f79T8wJS"
      }
    },
    {
      "cell_type": "markdown",
      "source": [
        "#<big><big> Fundamentos de Estadística</big></big><br><small>\n",
        "\n",
        "**Facultad de Ingeniería / Escuela de diseño, Ingenieria y Ciencias Aplicadas**\n",
        "\n",
        "### Certificación</small><br><small>"
      ],
      "metadata": {
        "id": "6HE_A3iE894j"
      }
    },
    {
      "cell_type": "code",
      "execution_count": null,
      "metadata": {
        "id": "ctsPjr0i8s7G"
      },
      "outputs": [],
      "source": [
        "import numpy as np\n",
        "import pandas as pd\n",
        "from scipy import stats\n",
        "from scipy.stats import skew, kurtosis\n",
        "import altair as alt\n",
        "\n",
        "\n"
      ]
    },
    {
      "cell_type": "markdown",
      "source": [
        "**Contexto:**\n",
        "\n",
        "Imaginemos que somos profesores de un curso de Fundamentos de Estadística en una universidad. Queremos analizar el rendimiento de nuestros estudiantes en el examen final. Para ello, generamos un conjunto de datos aleatorios que representa las notas de 100 estudiantes. Las notas se simulan utilizando una distribución normal con una media de 70 y una desviación estándar de 10.\n",
        "\n"
      ],
      "metadata": {
        "id": "_pFK6D6QARsg"
      }
    },
    {
      "cell_type": "code",
      "source": [
        "# Generar datos aleatorios de notas\n",
        "np.random.seed(0)  # Para reproducibilidad\n",
        "notas = np.random.normal(loc=70, scale=10, size=100)"
      ],
      "metadata": {
        "id": "s6SydGWmAbxC"
      },
      "execution_count": null,
      "outputs": []
    },
    {
      "cell_type": "code",
      "source": [
        "notas"
      ],
      "metadata": {
        "colab": {
          "base_uri": "https://localhost:8080/"
        },
        "id": "lPe0I4JuAdDQ",
        "outputId": "a307ca78-bba7-4eea-bbc8-2eafc2b61d9c"
      },
      "execution_count": null,
      "outputs": [
        {
          "output_type": "execute_result",
          "data": {
            "text/plain": [
              "array([87.64052346, 74.00157208, 79.78737984, 92.40893199, 88.6755799 ,\n",
              "       60.2272212 , 79.50088418, 68.48642792, 68.96781148, 74.10598502,\n",
              "       71.44043571, 84.54273507, 77.61037725, 71.21675016, 74.43863233,\n",
              "       73.33674327, 84.94079073, 67.94841736, 73.13067702, 61.45904261,\n",
              "       44.47010184, 76.53618595, 78.64436199, 62.5783498 , 92.69754624,\n",
              "       55.45634325, 70.45758517, 68.1281615 , 85.32779214, 84.6935877 ,\n",
              "       71.54947426, 73.7816252 , 61.12214252, 50.19203532, 66.52087851,\n",
              "       71.56348969, 82.30290681, 82.02379849, 66.12673183, 66.97697249,\n",
              "       59.51447035, 55.79982063, 52.93729809, 89.50775395, 64.90347818,\n",
              "       65.61925698, 57.4720464 , 77.77490356, 53.86102152, 67.8725972 ,\n",
              "       61.04533439, 73.86902498, 64.89194862, 58.19367816, 69.71817772,\n",
              "       74.28331871, 70.66517222, 73.02471898, 63.65677906, 66.37258834,\n",
              "       63.27539552, 66.40446838, 61.86853718, 52.73717398, 71.77426142,\n",
              "       65.98219064, 53.69801653, 74.62782256, 60.92701636, 70.51945396,\n",
              "       77.29090562, 71.28982911, 81.39400685, 57.6517418 , 74.02341641,\n",
              "       63.15189909, 61.29202851, 64.21150335, 66.88447468, 70.56165342,\n",
              "       58.34850159, 79.00826487, 74.6566244 , 54.63756314, 84.88252194,\n",
              "       88.95889176, 81.78779571, 68.20075164, 59.29247378, 80.54451727,\n",
              "       65.96823053, 82.2244507 , 72.08274978, 79.76639036, 73.56366397,\n",
              "       77.06573168, 70.10500021, 87.85870494, 71.26912093, 74.01989363])"
            ]
          },
          "metadata": {},
          "execution_count": 4
        }
      ]
    },
    {
      "cell_type": "code",
      "source": [
        "# Cálculo de la media\n",
        "media = np.mean(notas)\n",
        "print(f'Media: {media}')\n",
        "\n",
        "# Cálculo de la mediana\n",
        "mediana = np.median(notas)\n",
        "print(f'Mediana: {mediana}')\n",
        "\n",
        "# Cálculo de la moda\n",
        "notas_df = pd.DataFrame({'notas': notas})\n",
        "moda = notas_df['notas'].mode()[0]\n",
        "print(f'Moda: {moda}')\n",
        "\n",
        "# Cálculo de la desviación estándar\n",
        "desviacion_estandar = np.std(notas)\n",
        "print(f'Desviación estándar: {desviacion_estandar}')\n",
        "\n",
        "# Cálculo de la asimetría\n",
        "asimetria = skew(notas)\n",
        "print(f'Asimetría: {asimetria}')\n",
        "\n",
        "# Cálculo de la curtosis\n",
        "curtosis_ = kurtosis(notas)\n",
        "print(f'Curtosis: {curtosis_}')\n",
        "\n"
      ],
      "metadata": {
        "colab": {
          "base_uri": "https://localhost:8080/"
        },
        "id": "KzgS-rzO_Exh",
        "outputId": "4c581f43-21ec-4c0c-8830-03cc81c4abfa"
      },
      "execution_count": null,
      "outputs": [
        {
          "output_type": "stream",
          "name": "stdout",
          "text": [
            "Media: 70.59808015534485\n",
            "Mediana: 70.94096119437998\n",
            "Moda: 44.470101841659215\n",
            "Desviación estándar: 10.078822447165797\n",
            "Asimetría: 0.005171839713551247\n",
            "Curtosis: -0.37835455663313367\n"
          ]
        }
      ]
    },
    {
      "cell_type": "code",
      "source": [
        "# Gráfica de la distribución de las notas\n",
        "chart = alt.Chart(notas_df).mark_bar().encode(\n",
        "    alt.X('notas:Q', bin=True),\n",
        "    y='count()',\n",
        "    tooltip=[alt.Tooltip('notas:Q', bin=True), 'count()']\n",
        ").properties(\n",
        "    title='Distribución de las notas del examen final de Estadística'\n",
        ").interactive()\n",
        "\n",
        "chart.save('distribucion_notas.json')"
      ],
      "metadata": {
        "id": "DtepozKmAhvU"
      },
      "execution_count": null,
      "outputs": []
    },
    {
      "cell_type": "code",
      "source": [
        "chart"
      ],
      "metadata": {
        "colab": {
          "base_uri": "https://localhost:8080/",
          "height": 380
        },
        "id": "aMnD2dIKAjGW",
        "outputId": "843a0f19-61d2-45f6-e69c-d4c36d72bdd4"
      },
      "execution_count": null,
      "outputs": [
        {
          "output_type": "execute_result",
          "data": {
            "text/html": [
              "\n",
              "<div id=\"altair-viz-1adac57d0381496aa1968823c5611d2e\"></div>\n",
              "<script type=\"text/javascript\">\n",
              "  var VEGA_DEBUG = (typeof VEGA_DEBUG == \"undefined\") ? {} : VEGA_DEBUG;\n",
              "  (function(spec, embedOpt){\n",
              "    let outputDiv = document.currentScript.previousElementSibling;\n",
              "    if (outputDiv.id !== \"altair-viz-1adac57d0381496aa1968823c5611d2e\") {\n",
              "      outputDiv = document.getElementById(\"altair-viz-1adac57d0381496aa1968823c5611d2e\");\n",
              "    }\n",
              "    const paths = {\n",
              "      \"vega\": \"https://cdn.jsdelivr.net/npm//vega@5?noext\",\n",
              "      \"vega-lib\": \"https://cdn.jsdelivr.net/npm//vega-lib?noext\",\n",
              "      \"vega-lite\": \"https://cdn.jsdelivr.net/npm//vega-lite@4.17.0?noext\",\n",
              "      \"vega-embed\": \"https://cdn.jsdelivr.net/npm//vega-embed@6?noext\",\n",
              "    };\n",
              "\n",
              "    function maybeLoadScript(lib, version) {\n",
              "      var key = `${lib.replace(\"-\", \"\")}_version`;\n",
              "      return (VEGA_DEBUG[key] == version) ?\n",
              "        Promise.resolve(paths[lib]) :\n",
              "        new Promise(function(resolve, reject) {\n",
              "          var s = document.createElement('script');\n",
              "          document.getElementsByTagName(\"head\")[0].appendChild(s);\n",
              "          s.async = true;\n",
              "          s.onload = () => {\n",
              "            VEGA_DEBUG[key] = version;\n",
              "            return resolve(paths[lib]);\n",
              "          };\n",
              "          s.onerror = () => reject(`Error loading script: ${paths[lib]}`);\n",
              "          s.src = paths[lib];\n",
              "        });\n",
              "    }\n",
              "\n",
              "    function showError(err) {\n",
              "      outputDiv.innerHTML = `<div class=\"error\" style=\"color:red;\">${err}</div>`;\n",
              "      throw err;\n",
              "    }\n",
              "\n",
              "    function displayChart(vegaEmbed) {\n",
              "      vegaEmbed(outputDiv, spec, embedOpt)\n",
              "        .catch(err => showError(`Javascript Error: ${err.message}<br>This usually means there's a typo in your chart specification. See the javascript console for the full traceback.`));\n",
              "    }\n",
              "\n",
              "    if(typeof define === \"function\" && define.amd) {\n",
              "      requirejs.config({paths});\n",
              "      require([\"vega-embed\"], displayChart, err => showError(`Error loading script: ${err.message}`));\n",
              "    } else {\n",
              "      maybeLoadScript(\"vega\", \"5\")\n",
              "        .then(() => maybeLoadScript(\"vega-lite\", \"4.17.0\"))\n",
              "        .then(() => maybeLoadScript(\"vega-embed\", \"6\"))\n",
              "        .catch(showError)\n",
              "        .then(() => displayChart(vegaEmbed));\n",
              "    }\n",
              "  })({\"config\": {\"view\": {\"continuousWidth\": 400, \"continuousHeight\": 300}}, \"data\": {\"name\": \"data-c48f39ffa2492791f5bc02babcb76ffe\"}, \"mark\": \"bar\", \"encoding\": {\"tooltip\": [{\"bin\": true, \"field\": \"notas\", \"type\": \"quantitative\"}, {\"aggregate\": \"count\", \"type\": \"quantitative\"}], \"x\": {\"bin\": true, \"field\": \"notas\", \"type\": \"quantitative\"}, \"y\": {\"aggregate\": \"count\", \"type\": \"quantitative\"}}, \"selection\": {\"selector001\": {\"type\": \"interval\", \"bind\": \"scales\", \"encodings\": [\"x\", \"y\"]}}, \"title\": \"Distribuci\\u00f3n de las notas del examen final de Estad\\u00edstica\", \"$schema\": \"https://vega.github.io/schema/vega-lite/v4.17.0.json\", \"datasets\": {\"data-c48f39ffa2492791f5bc02babcb76ffe\": [{\"notas\": 87.64052345967664}, {\"notas\": 74.00157208367223}, {\"notas\": 79.78737984105739}, {\"notas\": 92.40893199201457}, {\"notas\": 88.67557990149967}, {\"notas\": 60.22722120123589}, {\"notas\": 79.50088417525589}, {\"notas\": 68.48642791702302}, {\"notas\": 68.96781148206442}, {\"notas\": 74.10598501938372}, {\"notas\": 71.44043571160879}, {\"notas\": 84.54273506962976}, {\"notas\": 77.61037725146994}, {\"notas\": 71.21675016492829}, {\"notas\": 74.43863232745426}, {\"notas\": 73.33674327374267}, {\"notas\": 84.94079073157606}, {\"notas\": 67.94841736234198}, {\"notas\": 73.13067701650901}, {\"notas\": 61.45904260698275}, {\"notas\": 44.470101841659215}, {\"notas\": 76.5361859544036}, {\"notas\": 78.64436198859505}, {\"notas\": 62.57834979593558}, {\"notas\": 92.69754623987608}, {\"notas\": 55.45634325401235}, {\"notas\": 70.45758517301446}, {\"notas\": 68.12816149974167}, {\"notas\": 85.32779214358457}, {\"notas\": 84.69358769900285}, {\"notas\": 71.54947425696916}, {\"notas\": 73.78162519602174}, {\"notas\": 61.12214252369887}, {\"notas\": 50.19203531776073}, {\"notas\": 66.52087850673847}, {\"notas\": 71.5634896910398}, {\"notas\": 82.30290680727721}, {\"notas\": 82.02379848784412}, {\"notas\": 66.12673182592047}, {\"notas\": 66.97697249424664}, {\"notas\": 59.51447034932907}, {\"notas\": 55.79982062821025}, {\"notas\": 52.937298093749874}, {\"notas\": 89.5077539523179}, {\"notas\": 64.90347818248347}, {\"notas\": 65.61925698388814}, {\"notas\": 57.47204639950074}, {\"notas\": 77.7749035583191}, {\"notas\": 53.86102152442049}, {\"notas\": 67.87259719786032}, {\"notas\": 61.045334388063246}, {\"notas\": 73.86902497859262}, {\"notas\": 64.89194862431127}, {\"notas\": 58.19367815877588}, {\"notas\": 69.71817771661345}, {\"notas\": 74.28331870530418}, {\"notas\": 70.66517222383168}, {\"notas\": 73.02471897739781}, {\"notas\": 63.65677906319036}, {\"notas\": 66.37258834012862}, {\"notas\": 63.27539552224049}, {\"notas\": 66.4044683845946}, {\"notas\": 61.86853717955546}, {\"notas\": 52.73717397668323}, {\"notas\": 71.77426142253753}, {\"notas\": 65.98219063791738}, {\"notas\": 53.69801653033956}, {\"notas\": 74.62782255525774}, {\"notas\": 60.92701635616758}, {\"notas\": 70.51945395796139}, {\"notas\": 77.29090562177537}, {\"notas\": 71.2898291075741}, {\"notas\": 81.39400684543301}, {\"notas\": 57.651741796463476}, {\"notas\": 74.02341641177549}, {\"notas\": 63.15189909059687}, {\"notas\": 61.29202850818118}, {\"notas\": 64.21150335235585}, {\"notas\": 66.88447467872628}, {\"notas\": 70.56165342229745}, {\"notas\": 58.348501592166436}, {\"notas\": 79.00826486954188}, {\"notas\": 74.6566243973046}, {\"notas\": 54.63756313722776}, {\"notas\": 84.882521937956}, {\"notas\": 88.95889176030583}, {\"notas\": 81.7877957115965}, {\"notas\": 68.2007516418765}, {\"notas\": 59.292473784894575}, {\"notas\": 80.54451726931137}, {\"notas\": 65.9682305302682}, {\"notas\": 82.22445070382427}, {\"notas\": 72.08274978076861}, {\"notas\": 79.76639036483712}, {\"notas\": 73.56366397174402}, {\"notas\": 77.06573168191949}, {\"notas\": 70.1050002072082}, {\"notas\": 87.85870493905836}, {\"notas\": 71.2691209270362}, {\"notas\": 74.01989363444702}]}}, {\"mode\": \"vega-lite\"});\n",
              "</script>"
            ],
            "text/plain": [
              "alt.Chart(...)"
            ]
          },
          "metadata": {},
          "execution_count": 8
        }
      ]
    },
    {
      "cell_type": "code",
      "source": [
        "# Gráfica de la distribución de las notas\n",
        "chart = alt.Chart(notas_df).mark_bar().encode(\n",
        "    alt.X('notas:Q', bin=True),\n",
        "    y='count()',\n",
        "    tooltip=[alt.Tooltip('notas:Q', bin=True), 'count()']\n",
        ").properties(\n",
        "    title='Distribución de las notas del examen final de Estadística'\n",
        ")\n",
        "\n",
        "# Añadir la línea de la distribución normal\n",
        "normal_dist = alt.Chart(notas_df).transform_density(\n",
        "    'notas',\n",
        "    as_=['notas', 'density'],\n",
        "    steps=200\n",
        ").mark_line(color='red').encode(\n",
        "    x='notas:Q',\n",
        "    y='density:Q'\n",
        ")\n",
        "\n",
        "# Añadir la línea de la media\n",
        "mean_line = alt.Chart(pd.DataFrame({'x': [media]})).mark_rule(color='green').encode(\n",
        "    x='x',\n",
        "    tooltip=[alt.Tooltip('x', title='Media')]\n",
        ")\n",
        "\n",
        "# Añadir la línea de la mediana\n",
        "median_line = alt.Chart(pd.DataFrame({'x': [mediana]})).mark_rule(color='blue').encode(\n",
        "    x='x',\n",
        "    tooltip=[alt.Tooltip('x', title='Mediana')]\n",
        ")\n",
        "\n",
        "# Combinar las gráficas\n",
        "chart_final = chart + normal_dist + mean_line + median_line\n",
        "\n",
        "chart_final.save('distribucion_notas_con_lineas.json')"
      ],
      "metadata": {
        "id": "xiOv6VHrAm63"
      },
      "execution_count": null,
      "outputs": []
    },
    {
      "cell_type": "code",
      "source": [
        "chart_final"
      ],
      "metadata": {
        "colab": {
          "base_uri": "https://localhost:8080/",
          "height": 381
        },
        "id": "0fnVb1iNA727",
        "outputId": "7a63d8b5-954d-4b9d-cc40-1d868bf3716d"
      },
      "execution_count": null,
      "outputs": [
        {
          "output_type": "execute_result",
          "data": {
            "text/html": [
              "\n",
              "<div id=\"altair-viz-e2a562a9be6140a49ecdf7c3003cdf98\"></div>\n",
              "<script type=\"text/javascript\">\n",
              "  var VEGA_DEBUG = (typeof VEGA_DEBUG == \"undefined\") ? {} : VEGA_DEBUG;\n",
              "  (function(spec, embedOpt){\n",
              "    let outputDiv = document.currentScript.previousElementSibling;\n",
              "    if (outputDiv.id !== \"altair-viz-e2a562a9be6140a49ecdf7c3003cdf98\") {\n",
              "      outputDiv = document.getElementById(\"altair-viz-e2a562a9be6140a49ecdf7c3003cdf98\");\n",
              "    }\n",
              "    const paths = {\n",
              "      \"vega\": \"https://cdn.jsdelivr.net/npm//vega@5?noext\",\n",
              "      \"vega-lib\": \"https://cdn.jsdelivr.net/npm//vega-lib?noext\",\n",
              "      \"vega-lite\": \"https://cdn.jsdelivr.net/npm//vega-lite@4.17.0?noext\",\n",
              "      \"vega-embed\": \"https://cdn.jsdelivr.net/npm//vega-embed@6?noext\",\n",
              "    };\n",
              "\n",
              "    function maybeLoadScript(lib, version) {\n",
              "      var key = `${lib.replace(\"-\", \"\")}_version`;\n",
              "      return (VEGA_DEBUG[key] == version) ?\n",
              "        Promise.resolve(paths[lib]) :\n",
              "        new Promise(function(resolve, reject) {\n",
              "          var s = document.createElement('script');\n",
              "          document.getElementsByTagName(\"head\")[0].appendChild(s);\n",
              "          s.async = true;\n",
              "          s.onload = () => {\n",
              "            VEGA_DEBUG[key] = version;\n",
              "            return resolve(paths[lib]);\n",
              "          };\n",
              "          s.onerror = () => reject(`Error loading script: ${paths[lib]}`);\n",
              "          s.src = paths[lib];\n",
              "        });\n",
              "    }\n",
              "\n",
              "    function showError(err) {\n",
              "      outputDiv.innerHTML = `<div class=\"error\" style=\"color:red;\">${err}</div>`;\n",
              "      throw err;\n",
              "    }\n",
              "\n",
              "    function displayChart(vegaEmbed) {\n",
              "      vegaEmbed(outputDiv, spec, embedOpt)\n",
              "        .catch(err => showError(`Javascript Error: ${err.message}<br>This usually means there's a typo in your chart specification. See the javascript console for the full traceback.`));\n",
              "    }\n",
              "\n",
              "    if(typeof define === \"function\" && define.amd) {\n",
              "      requirejs.config({paths});\n",
              "      require([\"vega-embed\"], displayChart, err => showError(`Error loading script: ${err.message}`));\n",
              "    } else {\n",
              "      maybeLoadScript(\"vega\", \"5\")\n",
              "        .then(() => maybeLoadScript(\"vega-lite\", \"4.17.0\"))\n",
              "        .then(() => maybeLoadScript(\"vega-embed\", \"6\"))\n",
              "        .catch(showError)\n",
              "        .then(() => displayChart(vegaEmbed));\n",
              "    }\n",
              "  })({\"config\": {\"view\": {\"continuousWidth\": 400, \"continuousHeight\": 300}}, \"layer\": [{\"mark\": \"bar\", \"encoding\": {\"tooltip\": [{\"bin\": true, \"field\": \"notas\", \"type\": \"quantitative\"}, {\"aggregate\": \"count\", \"type\": \"quantitative\"}], \"x\": {\"bin\": true, \"field\": \"notas\", \"type\": \"quantitative\"}, \"y\": {\"aggregate\": \"count\", \"type\": \"quantitative\"}}, \"title\": \"Distribuci\\u00f3n de las notas del examen final de Estad\\u00edstica\"}, {\"mark\": {\"type\": \"line\", \"color\": \"red\"}, \"encoding\": {\"x\": {\"field\": \"notas\", \"type\": \"quantitative\"}, \"y\": {\"field\": \"density\", \"type\": \"quantitative\"}}, \"transform\": [{\"density\": \"notas\", \"steps\": 200, \"as\": [\"notas\", \"density\"]}]}, {\"data\": {\"name\": \"data-47a6f29bd7c4b633193388284c570ce8\"}, \"mark\": {\"type\": \"rule\", \"color\": \"green\"}, \"encoding\": {\"tooltip\": [{\"field\": \"x\", \"title\": \"Media\", \"type\": \"quantitative\"}], \"x\": {\"field\": \"x\", \"type\": \"quantitative\"}}}, {\"data\": {\"name\": \"data-3d2d7922939279320e3cf29505165931\"}, \"mark\": {\"type\": \"rule\", \"color\": \"blue\"}, \"encoding\": {\"tooltip\": [{\"field\": \"x\", \"title\": \"Mediana\", \"type\": \"quantitative\"}], \"x\": {\"field\": \"x\", \"type\": \"quantitative\"}}}], \"data\": {\"name\": \"data-c48f39ffa2492791f5bc02babcb76ffe\"}, \"$schema\": \"https://vega.github.io/schema/vega-lite/v4.17.0.json\", \"datasets\": {\"data-c48f39ffa2492791f5bc02babcb76ffe\": [{\"notas\": 87.64052345967664}, {\"notas\": 74.00157208367223}, {\"notas\": 79.78737984105739}, {\"notas\": 92.40893199201457}, {\"notas\": 88.67557990149967}, {\"notas\": 60.22722120123589}, {\"notas\": 79.50088417525589}, {\"notas\": 68.48642791702302}, {\"notas\": 68.96781148206442}, {\"notas\": 74.10598501938372}, {\"notas\": 71.44043571160879}, {\"notas\": 84.54273506962976}, {\"notas\": 77.61037725146994}, {\"notas\": 71.21675016492829}, {\"notas\": 74.43863232745426}, {\"notas\": 73.33674327374267}, {\"notas\": 84.94079073157606}, {\"notas\": 67.94841736234198}, {\"notas\": 73.13067701650901}, {\"notas\": 61.45904260698275}, {\"notas\": 44.470101841659215}, {\"notas\": 76.5361859544036}, {\"notas\": 78.64436198859505}, {\"notas\": 62.57834979593558}, {\"notas\": 92.69754623987608}, {\"notas\": 55.45634325401235}, {\"notas\": 70.45758517301446}, {\"notas\": 68.12816149974167}, {\"notas\": 85.32779214358457}, {\"notas\": 84.69358769900285}, {\"notas\": 71.54947425696916}, {\"notas\": 73.78162519602174}, {\"notas\": 61.12214252369887}, {\"notas\": 50.19203531776073}, {\"notas\": 66.52087850673847}, {\"notas\": 71.5634896910398}, {\"notas\": 82.30290680727721}, {\"notas\": 82.02379848784412}, {\"notas\": 66.12673182592047}, {\"notas\": 66.97697249424664}, {\"notas\": 59.51447034932907}, {\"notas\": 55.79982062821025}, {\"notas\": 52.937298093749874}, {\"notas\": 89.5077539523179}, {\"notas\": 64.90347818248347}, {\"notas\": 65.61925698388814}, {\"notas\": 57.47204639950074}, {\"notas\": 77.7749035583191}, {\"notas\": 53.86102152442049}, {\"notas\": 67.87259719786032}, {\"notas\": 61.045334388063246}, {\"notas\": 73.86902497859262}, {\"notas\": 64.89194862431127}, {\"notas\": 58.19367815877588}, {\"notas\": 69.71817771661345}, {\"notas\": 74.28331870530418}, {\"notas\": 70.66517222383168}, {\"notas\": 73.02471897739781}, {\"notas\": 63.65677906319036}, {\"notas\": 66.37258834012862}, {\"notas\": 63.27539552224049}, {\"notas\": 66.4044683845946}, {\"notas\": 61.86853717955546}, {\"notas\": 52.73717397668323}, {\"notas\": 71.77426142253753}, {\"notas\": 65.98219063791738}, {\"notas\": 53.69801653033956}, {\"notas\": 74.62782255525774}, {\"notas\": 60.92701635616758}, {\"notas\": 70.51945395796139}, {\"notas\": 77.29090562177537}, {\"notas\": 71.2898291075741}, {\"notas\": 81.39400684543301}, {\"notas\": 57.651741796463476}, {\"notas\": 74.02341641177549}, {\"notas\": 63.15189909059687}, {\"notas\": 61.29202850818118}, {\"notas\": 64.21150335235585}, {\"notas\": 66.88447467872628}, {\"notas\": 70.56165342229745}, {\"notas\": 58.348501592166436}, {\"notas\": 79.00826486954188}, {\"notas\": 74.6566243973046}, {\"notas\": 54.63756313722776}, {\"notas\": 84.882521937956}, {\"notas\": 88.95889176030583}, {\"notas\": 81.7877957115965}, {\"notas\": 68.2007516418765}, {\"notas\": 59.292473784894575}, {\"notas\": 80.54451726931137}, {\"notas\": 65.9682305302682}, {\"notas\": 82.22445070382427}, {\"notas\": 72.08274978076861}, {\"notas\": 79.76639036483712}, {\"notas\": 73.56366397174402}, {\"notas\": 77.06573168191949}, {\"notas\": 70.1050002072082}, {\"notas\": 87.85870493905836}, {\"notas\": 71.2691209270362}, {\"notas\": 74.01989363444702}], \"data-47a6f29bd7c4b633193388284c570ce8\": [{\"x\": 70.59808015534485}], \"data-3d2d7922939279320e3cf29505165931\": [{\"x\": 70.94096119437998}]}}, {\"mode\": \"vega-lite\"});\n",
              "</script>"
            ],
            "text/plain": [
              "alt.LayerChart(...)"
            ]
          },
          "metadata": {},
          "execution_count": 12
        }
      ]
    },
    {
      "cell_type": "code",
      "source": [
        "# Cálculo de los deciles\n",
        "deciles = np.percentile(notas, np.arange(10, 100, 10))\n",
        "print(f'Deciles: {deciles}')\n",
        "\n",
        "# Gráfico de caja (boxplot)\n",
        "chart = alt.Chart(pd.DataFrame({'notas': notas})).mark_boxplot().encode(\n",
        "    y='notas:Q'\n",
        ").properties(\n",
        "    title='Boxplot de las notas del examen final de Estadística'\n",
        ")\n",
        "\n",
        "# Añadir marcadores para los deciles\n",
        "for i, decil in enumerate(deciles):\n",
        "    chart += alt.Chart(pd.DataFrame({'y': [decil]})).mark_rule(color='red').encode(\n",
        "        y='y',\n",
        "        tooltip=[alt.Tooltip('y', title=f'Decil {i+1}')]\n",
        "    )\n",
        "\n",
        "# Mostrar la gráfica\n",
        "chart.interactive().save('boxplot_notas.json')"
      ],
      "metadata": {
        "colab": {
          "base_uri": "https://localhost:8080/"
        },
        "id": "lLe_VOZcBEsH",
        "outputId": "5b5f5560-8757-4aa4-d740-7e2a68f81b6f"
      },
      "execution_count": null,
      "outputs": [
        {
          "output_type": "stream",
          "name": "stdout",
          "text": [
            "Deciles: [57.63377226 61.42563979 65.86353847 68.05626384 70.94096119 73.21310352\n",
            " 74.4953894  79.55398541 84.71248112]\n"
          ]
        }
      ]
    },
    {
      "cell_type": "code",
      "source": [
        "chart"
      ],
      "metadata": {
        "colab": {
          "base_uri": "https://localhost:8080/",
          "height": 358
        },
        "id": "bTRCeS4XBW1e",
        "outputId": "00f0d6fe-9e54-4064-be8a-c8e2ea28fc86"
      },
      "execution_count": null,
      "outputs": [
        {
          "output_type": "execute_result",
          "data": {
            "text/html": [
              "\n",
              "<div id=\"altair-viz-af9a54a08984416996132a1c398ad44e\"></div>\n",
              "<script type=\"text/javascript\">\n",
              "  var VEGA_DEBUG = (typeof VEGA_DEBUG == \"undefined\") ? {} : VEGA_DEBUG;\n",
              "  (function(spec, embedOpt){\n",
              "    let outputDiv = document.currentScript.previousElementSibling;\n",
              "    if (outputDiv.id !== \"altair-viz-af9a54a08984416996132a1c398ad44e\") {\n",
              "      outputDiv = document.getElementById(\"altair-viz-af9a54a08984416996132a1c398ad44e\");\n",
              "    }\n",
              "    const paths = {\n",
              "      \"vega\": \"https://cdn.jsdelivr.net/npm//vega@5?noext\",\n",
              "      \"vega-lib\": \"https://cdn.jsdelivr.net/npm//vega-lib?noext\",\n",
              "      \"vega-lite\": \"https://cdn.jsdelivr.net/npm//vega-lite@4.17.0?noext\",\n",
              "      \"vega-embed\": \"https://cdn.jsdelivr.net/npm//vega-embed@6?noext\",\n",
              "    };\n",
              "\n",
              "    function maybeLoadScript(lib, version) {\n",
              "      var key = `${lib.replace(\"-\", \"\")}_version`;\n",
              "      return (VEGA_DEBUG[key] == version) ?\n",
              "        Promise.resolve(paths[lib]) :\n",
              "        new Promise(function(resolve, reject) {\n",
              "          var s = document.createElement('script');\n",
              "          document.getElementsByTagName(\"head\")[0].appendChild(s);\n",
              "          s.async = true;\n",
              "          s.onload = () => {\n",
              "            VEGA_DEBUG[key] = version;\n",
              "            return resolve(paths[lib]);\n",
              "          };\n",
              "          s.onerror = () => reject(`Error loading script: ${paths[lib]}`);\n",
              "          s.src = paths[lib];\n",
              "        });\n",
              "    }\n",
              "\n",
              "    function showError(err) {\n",
              "      outputDiv.innerHTML = `<div class=\"error\" style=\"color:red;\">${err}</div>`;\n",
              "      throw err;\n",
              "    }\n",
              "\n",
              "    function displayChart(vegaEmbed) {\n",
              "      vegaEmbed(outputDiv, spec, embedOpt)\n",
              "        .catch(err => showError(`Javascript Error: ${err.message}<br>This usually means there's a typo in your chart specification. See the javascript console for the full traceback.`));\n",
              "    }\n",
              "\n",
              "    if(typeof define === \"function\" && define.amd) {\n",
              "      requirejs.config({paths});\n",
              "      require([\"vega-embed\"], displayChart, err => showError(`Error loading script: ${err.message}`));\n",
              "    } else {\n",
              "      maybeLoadScript(\"vega\", \"5\")\n",
              "        .then(() => maybeLoadScript(\"vega-lite\", \"4.17.0\"))\n",
              "        .then(() => maybeLoadScript(\"vega-embed\", \"6\"))\n",
              "        .catch(showError)\n",
              "        .then(() => displayChart(vegaEmbed));\n",
              "    }\n",
              "  })({\"config\": {\"view\": {\"continuousWidth\": 400, \"continuousHeight\": 300}}, \"layer\": [{\"data\": {\"name\": \"data-c48f39ffa2492791f5bc02babcb76ffe\"}, \"mark\": \"boxplot\", \"encoding\": {\"y\": {\"field\": \"notas\", \"type\": \"quantitative\"}}, \"title\": \"Boxplot de las notas del examen final de Estad\\u00edstica\"}, {\"data\": {\"name\": \"data-164289188b38c86387a5fc2102d496b1\"}, \"mark\": {\"type\": \"rule\", \"color\": \"red\"}, \"encoding\": {\"tooltip\": [{\"field\": \"y\", \"title\": \"Decil 1\", \"type\": \"quantitative\"}], \"y\": {\"field\": \"y\", \"type\": \"quantitative\"}}}, {\"data\": {\"name\": \"data-2c04afb385cb6dbc2a252a2d515d19fa\"}, \"mark\": {\"type\": \"rule\", \"color\": \"red\"}, \"encoding\": {\"tooltip\": [{\"field\": \"y\", \"title\": \"Decil 2\", \"type\": \"quantitative\"}], \"y\": {\"field\": \"y\", \"type\": \"quantitative\"}}}, {\"data\": {\"name\": \"data-d4cd0ea88e1c45ababb738c8674f51ad\"}, \"mark\": {\"type\": \"rule\", \"color\": \"red\"}, \"encoding\": {\"tooltip\": [{\"field\": \"y\", \"title\": \"Decil 3\", \"type\": \"quantitative\"}], \"y\": {\"field\": \"y\", \"type\": \"quantitative\"}}}, {\"data\": {\"name\": \"data-86f88d63d43ae68dc975412db3e6b9ec\"}, \"mark\": {\"type\": \"rule\", \"color\": \"red\"}, \"encoding\": {\"tooltip\": [{\"field\": \"y\", \"title\": \"Decil 4\", \"type\": \"quantitative\"}], \"y\": {\"field\": \"y\", \"type\": \"quantitative\"}}}, {\"data\": {\"name\": \"data-719c264260432c88351f5bb006c68bd7\"}, \"mark\": {\"type\": \"rule\", \"color\": \"red\"}, \"encoding\": {\"tooltip\": [{\"field\": \"y\", \"title\": \"Decil 5\", \"type\": \"quantitative\"}], \"y\": {\"field\": \"y\", \"type\": \"quantitative\"}}}, {\"data\": {\"name\": \"data-8de2610507c64451d52bb4c50808fd8f\"}, \"mark\": {\"type\": \"rule\", \"color\": \"red\"}, \"encoding\": {\"tooltip\": [{\"field\": \"y\", \"title\": \"Decil 6\", \"type\": \"quantitative\"}], \"y\": {\"field\": \"y\", \"type\": \"quantitative\"}}}, {\"data\": {\"name\": \"data-2d7b68bd56c3ff08c74130d0ec2694a8\"}, \"mark\": {\"type\": \"rule\", \"color\": \"red\"}, \"encoding\": {\"tooltip\": [{\"field\": \"y\", \"title\": \"Decil 7\", \"type\": \"quantitative\"}], \"y\": {\"field\": \"y\", \"type\": \"quantitative\"}}}, {\"data\": {\"name\": \"data-6569daf6910d7e5a41427b85d876f201\"}, \"mark\": {\"type\": \"rule\", \"color\": \"red\"}, \"encoding\": {\"tooltip\": [{\"field\": \"y\", \"title\": \"Decil 8\", \"type\": \"quantitative\"}], \"y\": {\"field\": \"y\", \"type\": \"quantitative\"}}}, {\"data\": {\"name\": \"data-45c71bced1add7788a72b5101ee0661f\"}, \"mark\": {\"type\": \"rule\", \"color\": \"red\"}, \"encoding\": {\"tooltip\": [{\"field\": \"y\", \"title\": \"Decil 9\", \"type\": \"quantitative\"}], \"y\": {\"field\": \"y\", \"type\": \"quantitative\"}}}], \"$schema\": \"https://vega.github.io/schema/vega-lite/v4.17.0.json\", \"datasets\": {\"data-c48f39ffa2492791f5bc02babcb76ffe\": [{\"notas\": 87.64052345967664}, {\"notas\": 74.00157208367223}, {\"notas\": 79.78737984105739}, {\"notas\": 92.40893199201457}, {\"notas\": 88.67557990149967}, {\"notas\": 60.22722120123589}, {\"notas\": 79.50088417525589}, {\"notas\": 68.48642791702302}, {\"notas\": 68.96781148206442}, {\"notas\": 74.10598501938372}, {\"notas\": 71.44043571160879}, {\"notas\": 84.54273506962976}, {\"notas\": 77.61037725146994}, {\"notas\": 71.21675016492829}, {\"notas\": 74.43863232745426}, {\"notas\": 73.33674327374267}, {\"notas\": 84.94079073157606}, {\"notas\": 67.94841736234198}, {\"notas\": 73.13067701650901}, {\"notas\": 61.45904260698275}, {\"notas\": 44.470101841659215}, {\"notas\": 76.5361859544036}, {\"notas\": 78.64436198859505}, {\"notas\": 62.57834979593558}, {\"notas\": 92.69754623987608}, {\"notas\": 55.45634325401235}, {\"notas\": 70.45758517301446}, {\"notas\": 68.12816149974167}, {\"notas\": 85.32779214358457}, {\"notas\": 84.69358769900285}, {\"notas\": 71.54947425696916}, {\"notas\": 73.78162519602174}, {\"notas\": 61.12214252369887}, {\"notas\": 50.19203531776073}, {\"notas\": 66.52087850673847}, {\"notas\": 71.5634896910398}, {\"notas\": 82.30290680727721}, {\"notas\": 82.02379848784412}, {\"notas\": 66.12673182592047}, {\"notas\": 66.97697249424664}, {\"notas\": 59.51447034932907}, {\"notas\": 55.79982062821025}, {\"notas\": 52.937298093749874}, {\"notas\": 89.5077539523179}, {\"notas\": 64.90347818248347}, {\"notas\": 65.61925698388814}, {\"notas\": 57.47204639950074}, {\"notas\": 77.7749035583191}, {\"notas\": 53.86102152442049}, {\"notas\": 67.87259719786032}, {\"notas\": 61.045334388063246}, {\"notas\": 73.86902497859262}, {\"notas\": 64.89194862431127}, {\"notas\": 58.19367815877588}, {\"notas\": 69.71817771661345}, {\"notas\": 74.28331870530418}, {\"notas\": 70.66517222383168}, {\"notas\": 73.02471897739781}, {\"notas\": 63.65677906319036}, {\"notas\": 66.37258834012862}, {\"notas\": 63.27539552224049}, {\"notas\": 66.4044683845946}, {\"notas\": 61.86853717955546}, {\"notas\": 52.73717397668323}, {\"notas\": 71.77426142253753}, {\"notas\": 65.98219063791738}, {\"notas\": 53.69801653033956}, {\"notas\": 74.62782255525774}, {\"notas\": 60.92701635616758}, {\"notas\": 70.51945395796139}, {\"notas\": 77.29090562177537}, {\"notas\": 71.2898291075741}, {\"notas\": 81.39400684543301}, {\"notas\": 57.651741796463476}, {\"notas\": 74.02341641177549}, {\"notas\": 63.15189909059687}, {\"notas\": 61.29202850818118}, {\"notas\": 64.21150335235585}, {\"notas\": 66.88447467872628}, {\"notas\": 70.56165342229745}, {\"notas\": 58.348501592166436}, {\"notas\": 79.00826486954188}, {\"notas\": 74.6566243973046}, {\"notas\": 54.63756313722776}, {\"notas\": 84.882521937956}, {\"notas\": 88.95889176030583}, {\"notas\": 81.7877957115965}, {\"notas\": 68.2007516418765}, {\"notas\": 59.292473784894575}, {\"notas\": 80.54451726931137}, {\"notas\": 65.9682305302682}, {\"notas\": 82.22445070382427}, {\"notas\": 72.08274978076861}, {\"notas\": 79.76639036483712}, {\"notas\": 73.56366397174402}, {\"notas\": 77.06573168191949}, {\"notas\": 70.1050002072082}, {\"notas\": 87.85870493905836}, {\"notas\": 71.2691209270362}, {\"notas\": 74.01989363444702}], \"data-164289188b38c86387a5fc2102d496b1\": [{\"y\": 57.6337722567672}], \"data-2c04afb385cb6dbc2a252a2d515d19fa\": [{\"y\": 61.42563978722244}], \"data-d4cd0ea88e1c45ababb738c8674f51ad\": [{\"y\": 65.86353846635419}], \"data-86f88d63d43ae68dc975412db3e6b9ec\": [{\"y\": 68.0562638447818}], \"data-719c264260432c88351f5bb006c68bd7\": [{\"y\": 70.94096119437998}], \"data-8de2610507c64451d52bb4c50808fd8f\": [{\"y\": 73.21310351940248}], \"data-2d7b68bd56c3ff08c74130d0ec2694a8\": [{\"y\": 74.4953893957953}], \"data-6569daf6910d7e5a41427b85d876f201\": [{\"y\": 79.55398541317214}], \"data-45c71bced1add7788a72b5101ee0661f\": [{\"y\": 84.71248112289817}]}}, {\"mode\": \"vega-lite\"});\n",
              "</script>"
            ],
            "text/plain": [
              "alt.LayerChart(...)"
            ]
          },
          "metadata": {},
          "execution_count": 18
        }
      ]
    },
    {
      "cell_type": "markdown",
      "source": [
        "# Ahora tu\n",
        "\n",
        "## Contexto:\n",
        "\n",
        "Imagina que eres un analista de datos en una empresa de videojuegos. Tu trabajo es analizar el comportamiento de los jugadores en un nuevo juego que se ha lanzado recientemente.  Tienes acceso a un conjunto de datos que contiene información sobre el tiempo de juego (en horas) de 1000 jugadores durante su primera semana de juego.\n",
        "\n",
        "**Tarea:**\n",
        "\n",
        "Generación de datos: Genera un conjunto de datos aleatorios que represente el tiempo de juego de los 1000 jugadores. Puedes usar una distribución normal con una media de 15 horas y una desviación estándar de 5 horas.\n",
        "\n",
        "Cálculo de medidas estadísticas: Calcula las siguientes medidas estadísticas para el conjunto de datos generado:\n",
        "\n",
        "* Media\n",
        "* Mediana\n",
        "* Moda\n",
        "* Desviación estándar\n",
        "* Asimetría\n",
        "* Curtosis\n",
        "* Deciles (10%, 20%, ..., 90%)\n",
        "\n",
        "\n",
        "**Visualización de datos:** Crea las siguientes visualizaciones para el conjunto de datos:\n",
        "\n",
        "* Histograma de la distribución del tiempo de juego con la línea de la distribución normal, la línea de la media y la línea de la mediana.\n",
        "* Boxplot del tiempo de juego con marcadores para cada decil.\n",
        "\n",
        "**Interpretación de resultados:**\n",
        "\n",
        "Interpreta cada una de las medidas estadísticas calculadas en el contexto del problema.\n",
        "\n",
        "1. ¿Qué te dicen estas medidas sobre el comportamiento de los jugadores?\n",
        "Describe la forma de la distribución del tiempo de juego. ¿Es simétrica? 2. ¿Está sesgada? ¿Qué indica la curtosis sobre la distribución?\n",
        "3. Analiza el boxplot. ¿Hay valores atípicos? ¿Cómo se distribuyen los datos en los diferentes deciles?\n",
        "4. ¿Qué conclusiones puedes sacar sobre el tiempo de juego de los jugadores en su primera semana? ¿Hay algún patrón interesante?"
      ],
      "metadata": {
        "id": "pvF9oC5eB-U_"
      }
    },
    {
      "cell_type": "code",
      "source": [],
      "metadata": {
        "id": "8RfFVGKOBdwH"
      },
      "execution_count": null,
      "outputs": []
    }
  ]
}